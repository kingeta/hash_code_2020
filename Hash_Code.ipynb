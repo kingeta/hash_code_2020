{
 "cells": [
  {
   "cell_type": "code",
   "execution_count": 129,
   "metadata": {},
   "outputs": [],
   "source": [
    "class library():\n",
    "    def __init__(self, books, signup_days, book_rate):\n",
    "        self.books, self.signup_days, self.book_rate = books, signup_days, book_rate"
   ]
  },
  {
   "cell_type": "code",
   "execution_count": 130,
   "metadata": {},
   "outputs": [],
   "source": [
    "# Open file\n",
    "#data = open(\"a_example.txt\").read().split(\"\\n\")[:-1]\n",
    "#data = open(\"b_read_on.txt\").read().strip().split(\"\\n\")\n",
    "data = open(\"f_libraries_of_the_world.txt\").read().strip().split(\"\\n\")\n",
    "num_books, num_libs, total_time = [int(s) for s in data[0].split(\" \")]\n",
    "\n",
    "# Read in book scores\n",
    "book_scores = dict()\n",
    "for i, score in enumerate(data[1].split(\" \")):\n",
    "    book_scores[i] = int(score)\n",
    "\n",
    "# Sort books\n",
    "def sort_books(books):\n",
    "    return sorted(books, key = lambda x: book_scores[x])[::-1]\n",
    "\n",
    "# Read in libraries\n",
    "libs = []\n",
    "\n",
    "for j in range(2, len(data), 2):\n",
    "    #print(data[j])\n",
    "    #print(data[j].split(\" \"))\n",
    "    num_books, signup_days, book_rate = data[j].split(\" \")\n",
    "    new = library(set([int(x) for x in data[j+1].split(\" \")]), int(signup_days), int(book_rate))\n",
    "    \n",
    "    libs.append(new)\n",
    "    \n",
    "#print(libs)\n",
    "#print(book_scores)"
   ]
  },
  {
   "cell_type": "code",
   "execution_count": 131,
   "metadata": {},
   "outputs": [],
   "source": [
    "#print(libs[0].books)\n",
    "#print(sorted(libs[0].books, key = lambda x: book_scores[x]))\n",
    "#print(sort_books(libs[0].books))"
   ]
  },
  {
   "cell_type": "code",
   "execution_count": 132,
   "metadata": {},
   "outputs": [],
   "source": [
    "def time_value(lib, time_left):\n",
    "    return sum(book_scores[x] for x in sort_books(lib.books)[:lib.book_rate * time_left])\n",
    "\n",
    "def value(lib, time):\n",
    "    # Return the value of all books returned from a library starting at a given time\n",
    "    return time_value(lib, total_time - time - lib.signup_days)\n",
    "\n",
    "#print(value(libs[0], 0))\n",
    "#print(value(libs[1], 0))"
   ]
  },
  {
   "cell_type": "code",
   "execution_count": 133,
   "metadata": {},
   "outputs": [
    {
     "name": "stdout",
     "output_type": "stream",
     "text": [
      "1000\n"
     ]
    },
    {
     "data": {
      "text/plain": [
       "3006807"
      ]
     },
     "execution_count": 133,
     "metadata": {},
     "output_type": "execute_result"
    }
   ],
   "source": [
    "import numpy as np\n",
    "### Outputting some rubbish\n",
    "\n",
    "output = str(len(libs)) + \"\\n\"\n",
    "orders = np.argsort(list(map(lambda lib: value(lib, 0), libs)))[::-1]\n",
    "\n",
    "#output += \" \".join(orders.astype(str)) + \"\\n\"\n",
    "\n",
    "for lib_id in orders:\n",
    "    output += str(lib_id) + \" \" + str(len(libs[lib_id].books)) + \"\\n\"\n",
    "    output += \" \".join([str(x) for x in sort_books(libs[lib_id].books)]) + \"\\n\"\n",
    "\n",
    "#print(output)\n",
    "print(num_libs)\n",
    "open(\"results.txt\", \"w\").write(output.strip())"
   ]
  },
  {
   "cell_type": "code",
   "execution_count": null,
   "metadata": {},
   "outputs": [],
   "source": []
  }
 ],
 "metadata": {
  "kernelspec": {
   "display_name": "Python 3",
   "language": "python",
   "name": "python3"
  },
  "language_info": {
   "codemirror_mode": {
    "name": "ipython",
    "version": 3
   },
   "file_extension": ".py",
   "mimetype": "text/x-python",
   "name": "python",
   "nbconvert_exporter": "python",
   "pygments_lexer": "ipython3",
   "version": "3.7.3"
  }
 },
 "nbformat": 4,
 "nbformat_minor": 4
}
