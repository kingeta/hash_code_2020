{
 "cells": [
  {
   "cell_type": "code",
   "execution_count": 8,
   "metadata": {
    "colab": {},
    "colab_type": "code",
    "id": "736RdZB5Aw_A"
   },
   "outputs": [],
   "source": [
    "import numpy as np\n",
    "\n",
    "\n",
    "class library():\n",
    "    def __init__(self, books, signup_days, book_rate, num):\n",
    "        self.books, self.signup_days, self.book_rate = books, signup_days, book_rate\n",
    "        self.num = num\n",
    "\n",
    "# Open file\n",
    "\n",
    "# Read in book scores\n",
    "def read_scores(data):\n",
    "    book_scores = dict()\n",
    "    for i, score in enumerate(data[1].split(\" \")):\n",
    "        book_scores[i] = int(score)\n",
    "        \n",
    "    return book_scores\n",
    "\n",
    "\n",
    "# Sort books\n",
    "def sort_books(books, scores):\n",
    "    return sorted(books, key = lambda x: scores[x])[::-1]\n",
    "\n",
    "# Read in libraries\n",
    "def read_libs(data):\n",
    "    libs = []\n",
    "    for j in range(2, len(data), 2):\n",
    "        #print(data[j])\n",
    "        #print(data[j].split(\" \"))\n",
    "        num_books, signup_days, book_rate = data[j].split(\" \")\n",
    "        new = library(set([int(x) for x in data[j+1].split(\" \")]), int(signup_days), int(book_rate), (j-2) // 2)\n",
    "        #print(\"Num: \", (j-2) // 2)\n",
    "\n",
    "        libs.append(new)\n",
    "    \n",
    "    return libs\n",
    "\n",
    "\n",
    "def time_value(lib, time_left, book_scores, blacklist = set()):\n",
    "    return sum(book_scores[x] for x in sort_books(set(lib.books).difference(blacklist), book_scores)[:lib.book_rate * time_left])\n",
    "\n",
    "from math import sqrt\n",
    "\n",
    "def value(lib, time, total_time, book_scores, blacklist = set()):\n",
    "    # Return the value of all books returned from a library starting at a given time\n",
    "    return time_value(lib, total_time - time - lib.signup_days, book_scores, blacklist)/lib.signup_days"
   ]
  },
  {
   "cell_type": "code",
   "execution_count": 9,
   "metadata": {
    "colab": {
     "base_uri": "https://localhost:8080/",
     "height": 87
    },
    "colab_type": "code",
    "executionInfo": {
     "elapsed": 4482,
     "status": "ok",
     "timestamp": 1582228887608,
     "user": {
      "displayName": "Herby",
      "photoUrl": "https://lh3.googleusercontent.com/a-/AAuE7mDIDAxMEQ7CGvOkt8gOy2ipk6EAVKyxa2DeYz-AhQ=s64",
      "userId": "02933018178165267456"
     },
     "user_tz": 0
    },
    "id": "YStmEpPxBHTy",
    "outputId": "2783445d-8569-4c6f-affb-cf58975e32cf"
   },
   "outputs": [],
   "source": [
    "### Outputting some rubbish\n",
    "\n",
    "\n",
    "def get_output(data):    \n",
    "    num_books, num_libs, total_time = [int(s) for s in data[0].split(\" \")]\n",
    "    book_scores = read_scores(data)\n",
    "    libs = read_libs(data)\n",
    "\n",
    "    #orders = np.argsort(list(map(lambda lib: value(lib, 0), libs)))[::-1]\n",
    "    #orders = np.argsort(list(x.signup_days for x in libs))\n",
    "    output = \"\"\n",
    "\n",
    "    #print(value(libs[orders[0]], 0))\n",
    "    #print(value(libs[orders[-1]], 0))\n",
    "\n",
    "    blacklist = set()\n",
    "\n",
    "    n = 0 # Number of libs gone over\n",
    "    time = 0\n",
    "    \n",
    "    \"\"\"orders = np.argsort(list(map(lambda lib: value(lib, 0), libs)))[::-1]\n",
    "    \n",
    "    for lib_id in orders:\n",
    "        to_be_added = sort_books(libs[lib_id].books, book_scores)\n",
    "\n",
    "        if len(set(to_be_added).difference(blacklist)) > 0:\n",
    "          n += 1\n",
    "          #score += sum(book_scores[x] for x in set(to_be_added).difference(blacklist))\n",
    "          output += str(lib_id) + \" \" + str(len(set(to_be_added).difference(blacklist))) + \"\\n\"\n",
    "\n",
    "          output += \" \".join([str(x) for x in to_be_added if x not in blacklist]) + \"\\n\"\n",
    "          blacklist = blacklist.union(to_be_added)\"\"\"\n",
    "    \n",
    "    while len(libs) > 0:\n",
    "        #orders = [libs[x].num for x in np.argsort(list(map(lambda lib: value(lib, time, blacklist), libs)))][::-1]\n",
    "        #orders = np.argsort(list(map(lambda lib: value(lib, time, blacklist), libs)))[::-1]\n",
    "        \n",
    "        libs = sorted(libs, key = lambda lib: value(lib, time, total_time, book_scores, blacklist))[::-1]\n",
    "        \n",
    "        \n",
    "        #print(\"Best: \", value(libs[0], 0, total_time, book_scores, blacklist))\n",
    "        #print(\"Worst: \", value(libs[-1], 0, total_time, book_scores, blacklist))\n",
    "        \n",
    "        new_lib = libs[0]\n",
    "        libs = libs[1:]\n",
    "        \n",
    "        time += new_lib.signup_days\n",
    "        \n",
    "        to_be_added = sort_books(set(new_lib.books).difference(blacklist), book_scores)\n",
    "\n",
    "        if len(to_be_added) > 0:\n",
    "          n += 1\n",
    "          #score += sum(book_scores[x] for x in set(to_be_added).difference(blacklist))\n",
    "          output += str(new_lib.num) + \" \" + str(len(to_be_added)) + \"\\n\"\n",
    "\n",
    "          output += \" \".join([str(x) for x in to_be_added]) + \"\\n\"\n",
    "          blacklist = blacklist.union(to_be_added)\n",
    "\n",
    "    \n",
    "    \n",
    "    output = str(n) + \"\\n\" + output\n",
    "    \n",
    "    return output\n",
    "\n",
    "\n",
    "#print(list(libs[x].signup_days for x in orders[:10]))"
   ]
  },
  {
   "cell_type": "code",
   "execution_count": 11,
   "metadata": {
    "colab": {},
    "colab_type": "code",
    "id": "Z2n2vTvfBI58"
   },
   "outputs": [
    {
     "data": {
      "text/plain": [
       "'for short, filename in filenames.items():\\n    data = open(filename).read().strip().split(\"\\n\")\\n    out = get_output(data).strip()\\n    open(\"results/\" + short + \"_results.txt\", \"w\").write(out)    '"
      ]
     },
     "execution_count": 11,
     "metadata": {},
     "output_type": "execute_result"
    }
   ],
   "source": [
    "filenames = {'a': \"a_example.txt\", 'b': \"b_read_on.txt\", 'c': \"c_incunabula.txt\", 'd': \"d_tough_choices.txt\", 'e': \"e_so_many_books.txt\", 'f': \"f_libraries_of_the_world.txt\"}\n",
    "\n",
    "which = 'c'\n",
    "data = open(filenames[which]).read().strip().split(\"\\n\")\n",
    "out = get_output(data).strip()\n",
    "open(\"results/\" + which + \"_results.txt\", \"w\").write(out)\n",
    "\n",
    "\n",
    "\"\"\"for short, filename in filenames.items():\n",
    "    data = open(filename).read().strip().split(\"\\n\")\n",
    "    out = get_output(data).strip()\n",
    "    open(\"results/\" + short + \"_results.txt\", \"w\").write(out)    \"\"\""
   ]
  },
  {
   "cell_type": "code",
   "execution_count": null,
   "metadata": {},
   "outputs": [],
   "source": []
  }
 ],
 "metadata": {
  "colab": {
   "authorship_tag": "ABX9TyNg2/8e4Whh5KoIRPe8hsDL",
   "name": "Now_This_Is_Hacking.ipynb",
   "provenance": []
  },
  "kernelspec": {
   "display_name": "Python 3",
   "language": "python",
   "name": "python3"
  },
  "language_info": {
   "codemirror_mode": {
    "name": "ipython",
    "version": 3
   },
   "file_extension": ".py",
   "mimetype": "text/x-python",
   "name": "python",
   "nbconvert_exporter": "python",
   "pygments_lexer": "ipython3",
   "version": "3.7.3"
  }
 },
 "nbformat": 4,
 "nbformat_minor": 4
}
